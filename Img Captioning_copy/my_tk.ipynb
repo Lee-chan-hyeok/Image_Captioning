{
 "cells": [
  {
   "cell_type": "code",
   "execution_count": 2,
   "metadata": {},
   "outputs": [],
   "source": [
    "from collections import Counter\n",
    "from tqdm import tqdm\n",
    "\n",
    "\n",
    "class My_tokenizer:\n",
    "    def __init__(self, config, all_pairs, trainset_id):\n",
    "        self.all_pairs, self.trainset_id = all_pairs, trainset_id\n",
    "        self.vocab_size = config.vocab_size\n",
    "        self.pad_token, self.sos_token, self.eos_token, self.unk_token = '[PAD]', '[SOS]', '[EOS]', '[UNK]'\n",
    "        self.pad_token_id, self.sos_token_id, self.eos_token_id, self.unk_token_id = 0, 1, 2, 3\n",
    "        self.word2idx = {self.pad_token: self.pad_token_id, self.sos_token: self.sos_token_id, self.eos_token: self.eos_token_id, self.unk_token: self.unk_token_id}\n",
    "        self.idx2word = {self.pad_token_id: self.pad_token, self.sos_token_id: self.sos_token, self.eos_token_id: self.eos_token, self.unk_token_id: self.unk_token}\n",
    "\n",
    "        # count the word frequency\n",
    "        self.train_caption = [all_pairs[id][1] for id in self.trainset_id]\n",
    "        self.word_freq = Counter()\n",
    "        for cap in self.train_caption:\n",
    "            self.word_freq.update(cap.split())\n",
    "\n",
    "        # update vocab\n",
    "        for word, _ in tqdm(self.word_freq.most_common(self.vocab_size-len(self.word2idx)), desc='make tokenizer'):\n",
    "            if word not in self.word2idx:\n",
    "                self.idx2word[len(self.word2idx)] = word\n",
    "                self.word2idx[word] = len(self.word2idx)\n",
    "\n",
    "        assert len(self.word2idx) == len(self.idx2word)\n",
    "        self.vocab_size = min(self.vocab_size, len(self.word2idx))\n",
    "\n",
    "\n",
    "    def tokenize(self, s):\n",
    "        return s.split()\n",
    "\n",
    "\n",
    "    def encode(self, s):\n",
    "        s = [self.word2idx[w] if w in self.word2idx else self.word2idx[self.unk_token] for w in self.tokenize(s)]\n",
    "        return s\n",
    "\n",
    "\n",
    "    def decode(self, tok):\n",
    "        s = [self.idx2word[t] for t in tok]\n",
    "        try:\n",
    "            s = ' '.join(s[:tok.index(self.eos_token_id)])\n",
    "        except ValueError:\n",
    "            s = ' '.join(s)\n",
    "        return s"
   ]
  }
 ],
 "metadata": {
  "kernelspec": {
   "display_name": "env01",
   "language": "python",
   "name": "python3"
  },
  "language_info": {
   "codemirror_mode": {
    "name": "ipython",
    "version": 3
   },
   "file_extension": ".py",
   "mimetype": "text/x-python",
   "name": "python",
   "nbconvert_exporter": "python",
   "pygments_lexer": "ipython3",
   "version": "3.12.3"
  }
 },
 "nbformat": 4,
 "nbformat_minor": 2
}
