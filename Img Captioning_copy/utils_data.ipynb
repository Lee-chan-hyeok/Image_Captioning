{
 "cells": [
  {
   "cell_type": "code",
   "execution_count": 1,
   "metadata": {},
   "outputs": [],
   "source": [
    "import torch\n",
    "from torch.utils.data import Dataset\n",
    "from PIL import Image\n",
    "from tqdm import tqdm\n",
    "\n",
    "\n",
    "\n",
    "class DLoader(Dataset):\n",
    "    def __init__(self, img_folder, all_pairs, trans, ids, tokenizer, max_len):\n",
    "        self.data_pairs = [all_pairs[id] for id in ids]\n",
    "        self.trans = trans\n",
    "        self.ids = ids\n",
    "        self.tokenizer = tokenizer\n",
    "        self.max_len = max_len\n",
    "        self.data = [[self.trans(Image.open(img_folder+img_name)), cap] for img_name, cap in tqdm(self.data_pairs, desc='load data')]\n",
    "        self.length = len(self.data)\n",
    "\n",
    "\n",
    "    def __getitem__(self, idx):\n",
    "        image, caption = self.data[idx][0], self.data[idx][1]\n",
    "        caption = [self.tokenizer.sos_token_id] + self.tokenizer.encode(caption)[:self.max_len-2] + [self.tokenizer.eos_token_id]\n",
    "        caption = caption + [self.tokenizer.pad_token_id] * (self.max_len - len(caption))\n",
    "        return image, torch.LongTensor(caption), self.ids[idx]\n",
    "\n",
    "\n",
    "    def __len__(self):\n",
    "        return self.length"
   ]
  }
 ],
 "metadata": {
  "kernelspec": {
   "display_name": "env01",
   "language": "python",
   "name": "python3"
  },
  "language_info": {
   "codemirror_mode": {
    "name": "ipython",
    "version": 3
   },
   "file_extension": ".py",
   "mimetype": "text/x-python",
   "name": "python",
   "nbconvert_exporter": "python",
   "pygments_lexer": "ipython3",
   "version": "3.12.3"
  }
 },
 "nbformat": 4,
 "nbformat_minor": 2
}
