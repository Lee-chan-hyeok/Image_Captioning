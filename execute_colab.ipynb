{
 "cells": [
  {
   "cell_type": "code",
   "execution_count": null,
   "metadata": {},
   "outputs": [
    {
     "name": "stdout",
     "output_type": "stream",
     "text": [
      "Drive already mounted at /content/drive; to attempt to forcibly remount, call drive.mount(\"/content/drive\", force_remount=True).\n"
     ]
    }
   ],
   "source": [
    "from google.colab import drive\n",
    "drive.mount('/content/drive')"
   ]
  },
  {
   "cell_type": "code",
   "execution_count": null,
   "metadata": {},
   "outputs": [],
   "source": [
    "import os\n",
    "import sys\n",
    "sys.path.append('/content/drive/MyDrive/data/img_cap_project')\n",
    "os.chdir('/content/drive/MyDrive/data/img_cap_project') # base_path와 동일"
   ]
  },
  {
   "cell_type": "code",
   "execution_count": null,
   "metadata": {},
   "outputs": [],
   "source": [
    "from config import *\n",
    "from model_vgg import *\n",
    "from tokenizer import *\n",
    "from train import *\n",
    "from utils_data import *\n",
    "from utils_func import *"
   ]
  },
  {
   "cell_type": "code",
   "execution_count": null,
   "metadata": {},
   "outputs": [
    {
     "name": "stdout",
     "output_type": "stream",
     "text": [
      "Using cpu\n",
      "make tokenizer: 100% 214/214 [00:00<00:00, 1017665.60it/s]\n",
      "load data: 100% 64/64 [00:06<00:00, 10.45it/s]\n",
      "/usr/local/lib/python3.10/dist-packages/torch/utils/data/dataloader.py:558: UserWarning: This DataLoader will create 4 worker processes in total. Our suggested max number of worker in current system is 2, which is smaller than what this DataLoader is going to create. Please be aware that excessive worker creation might get DataLoader running slow or even freeze, lower the worker number to avoid potential slowness/freeze if necessary.\n",
      "  warnings.warn(_create_warning_msg(\n",
      "load data: 100% 32/32 [00:00<00:00, 44.84it/s]\n",
      "change to 1024\n",
      "Start training...\n",
      "\n",
      "1 / 3\n",
      "----------\n",
      "Phase: train\n",
      "Epoch 1: 0/2 step loss: 5.39053201675415, top-5 acc: 0.7874015748031495\n",
      "train loss: 5.378292, top-5 acc: 3.805774\n",
      "\n",
      "Phase: test\n",
      "Epoch 1: 0/1 step loss: 5.375362396240234, top-5 acc: 11.320754716981131\n",
      "test loss: 5.375362, top-5 acc: 11.320755\n",
      "\n",
      "--------------------------------------------------\n",
      "gt  : a [UNK] black and [UNK] dog in a blue [UNK] [UNK] over a fallen tree\n",
      "pred: a man man man facing facing facing tricolored which which which which grass which which which which man man man man man man man man man man man man man man\n",
      "\n",
      "gt  : a dog running through snow\n",
      "pred: a man other by which while which man man man man man man man man man man man man man man man man man man man man man man man man\n",
      "\n",
      "gt  : a small child [UNK] [UNK] the red ropes at the playground\n",
      "pred: a man grass man facing facing which which which which leaps which grass man man man man man man man man man man man man man man man man man man\n",
      "\n",
      "--------------------------------------------------\n",
      "\n",
      "/usr/local/lib/python3.10/dist-packages/nltk/translate/bleu_score.py:552: UserWarning: \n",
      "The hypothesis contains 0 counts of 3-gram overlaps.\n",
      "Therefore the BLEU score evaluates to 0, independently of\n",
      "how many N-gram overlaps of lower order it contains.\n",
      "Consider using lower n-gram order or use SmoothingFunction()\n",
      "  warnings.warn(_msg)\n",
      "/usr/local/lib/python3.10/dist-packages/nltk/translate/bleu_score.py:552: UserWarning: \n",
      "The hypothesis contains 0 counts of 4-gram overlaps.\n",
      "Therefore the BLEU score evaluates to 0, independently of\n",
      "how many N-gram overlaps of lower order it contains.\n",
      "Consider using lower n-gram order or use SmoothingFunction()\n",
      "  warnings.warn(_msg)\n",
      "bleu2: 0.013122919702009019, bleu4: 1.7087851115991552e-155, nist2: 0.1709351256357707, nist4: 0.1709351256357707\n",
      "model pt file is being saved\n",
      "\n",
      "time: 123.9218270778656 s\n",
      "\n",
      "\n",
      "\n",
      "\n",
      "2 / 3\n",
      "----------\n",
      "Phase: train\n",
      "Epoch 2: 0/2 step loss: 5.334819316864014, top-5 acc: 13.29639889196676\n",
      "train loss: 5.320838, top-5 acc: 16.872638\n",
      "\n",
      "Phase: test\n",
      "Epoch 2: 0/1 step loss: 5.358423709869385, top-5 acc: 23.450134770889488\n",
      "test loss: 5.358424, top-5 acc: 23.450135\n",
      "\n",
      "--------------------------------------------------\n",
      "gt  : [UNK] is a girl with pigtails sitting in front of a rainbow painting\n",
      "pred: a a a in is is facing which the tricolored climbing climbing which which grass man man man man man man man man man man man man man man man man\n",
      "\n",
      "gt  : a [UNK] black and [UNK] dog in a blue [UNK] [UNK] over a fallen tree\n",
      "pred: a a a a a hat is the a which which hat grass man which which in man man man man man man man man man man man man man man\n",
      "\n",
      "gt  : a little girl in a pink dress [UNK] into a wooden [UNK]\n",
      "pred: a a man is man a climbing climbing man which which which grass grass man man man man man man man man man man man man man man man man man\n",
      "\n",
      "--------------------------------------------------\n",
      "\n",
      "bleu2: 0.01671783705552307, bleu4: 1.928689249283741e-155, nist2: 0.31568843110213457, nist4: 0.31568843110213457\n",
      "model pt file is being saved\n",
      "\n",
      "time: 110.30751633644104 s\n",
      "\n",
      "\n",
      "\n",
      "\n",
      "3 / 3\n",
      "----------\n",
      "Phase: train\n",
      "Epoch 3: 0/2 step loss: 5.276788711547852, top-5 acc: 24.607329842931936\n",
      "^C\n"
     ]
    }
   ],
   "source": [
    "!python main.py -d gpu -m train"
   ]
  }
 ],
 "metadata": {
  "kernelspec": {
   "display_name": "env02",
   "language": "python",
   "name": "python3"
  },
  "language_info": {
   "codemirror_mode": {
    "name": "ipython",
    "version": 3
   },
   "file_extension": ".py",
   "mimetype": "text/x-python",
   "name": "python",
   "nbconvert_exporter": "python",
   "pygments_lexer": "ipython3",
   "version": "3.11.8"
  }
 },
 "nbformat": 4,
 "nbformat_minor": 2
}
